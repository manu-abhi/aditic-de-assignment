{
 "cells": [
  {
   "cell_type": "code",
   "execution_count": 1,
   "id": "3ee0044e-7c8b-431e-a6a0-c5552c29b501",
   "metadata": {},
   "outputs": [],
   "source": [
    "from pyspark.sql import SparkSession\n",
    "from pyspark.sql.functions import col, date_format, concat, to_timestamp, lit, avg, udf, sqrt\n",
    "from pyspark.sql.types import StringType\n",
    "import folium"
   ]
  },
  {
   "cell_type": "code",
   "execution_count": 2,
   "id": "7fd0122c-3065-4b4c-b0ce-d26d0caf7b2e",
   "metadata": {},
   "outputs": [
    {
     "name": "stderr",
     "output_type": "stream",
     "text": [
      "24/02/12 02:33:30 WARN Utils: Your hostname, tomato-pie resolves to a loopback address: 127.0.1.1; using 10.0.2.15 instead (on interface enp0s3)\n",
      "24/02/12 02:33:30 WARN Utils: Set SPARK_LOCAL_IP if you need to bind to another address\n",
      "Setting default log level to \"WARN\".\n",
      "To adjust logging level use sc.setLogLevel(newLevel). For SparkR, use setLogLevel(newLevel).\n",
      "24/02/12 02:33:31 WARN NativeCodeLoader: Unable to load native-hadoop library for your platform... using builtin-java classes where applicable\n",
      "                                                                                \r"
     ]
    }
   ],
   "source": [
    "# Create a spark session\n",
    "spark = SparkSession.builder.appName('Aditic DE Assignment').getOrCreate()\n",
    "\n",
    "# Read the data and select revelent columns for analysis\n",
    "df = spark.read.format(\"csv\")\\\n",
    "    .option(\"header\", \"true\")\\\n",
    "    .option(\"delimiter\", \",\")\\\n",
    "    .option(\"inferSchema\", \"true\")\\\n",
    "    .load(\"./data/database.csv\")\n",
    "\n",
    "df = df.select(\n",
    "    col(\"Date\"), \n",
    "    col(\"Time\"), \n",
    "    col(\"Latitude\"), \n",
    "    col(\"Longitude\"), \n",
    "    col(\"Type\"), \n",
    "    col(\"Depth\"), \n",
    "    col(\"Magnitude\")\n",
    ")"
   ]
  },
  {
   "cell_type": "code",
   "execution_count": 3,
   "id": "b9a623e3-89e2-4865-a78e-fb606425c8d1",
   "metadata": {},
   "outputs": [
    {
     "name": "stdout",
     "output_type": "stream",
     "text": [
      "+----------+--------+--------+---------+----------+-----+---------+-------------------+\n",
      "|      Date|    Time|Latitude|Longitude|      Type|Depth|Magnitude|          Timestamp|\n",
      "+----------+--------+--------+---------+----------+-----+---------+-------------------+\n",
      "|01/02/1965|13:44:18|  19.246|  145.616|Earthquake|131.6|      6.0|1965-01-02 13:44:18|\n",
      "|01/04/1965|11:29:49|   1.863|  127.352|Earthquake| 80.0|      5.8|1965-01-04 11:29:49|\n",
      "|01/05/1965|18:05:58| -20.579| -173.972|Earthquake| 20.0|      6.2|1965-01-05 18:05:58|\n",
      "|01/08/1965|18:49:43| -59.076|  -23.557|Earthquake| 15.0|      5.8|1965-01-08 18:49:43|\n",
      "|01/09/1965|13:32:50|  11.938|  126.427|Earthquake| 15.0|      5.8|1965-01-09 13:32:50|\n",
      "+----------+--------+--------+---------+----------+-----+---------+-------------------+\n",
      "only showing top 5 rows\n",
      "\n"
     ]
    }
   ],
   "source": [
    "# Creating a timestamp column by combining date and time\n",
    "df = df.withColumn(\"Time\", date_format(col(\"Time\"), \"HH:mm:ss\"))\n",
    "df = df.withColumn(\n",
    "        \"Timestamp\", \n",
    "        to_timestamp(concat(\"Date\",lit(\" \"), \"Time\"), \"MM/dd/yyyy HH:mm:ss\")\n",
    "    )\n",
    "\n",
    "df.show(5)"
   ]
  },
  {
   "cell_type": "code",
   "execution_count": 4,
   "id": "dae5ecd0-f102-460b-830c-21b69ddc668f",
   "metadata": {},
   "outputs": [
    {
     "name": "stdout",
     "output_type": "stream",
     "text": [
      "+----------+--------+--------+---------+----------+-----+---------+-------------------+\n",
      "|      Date|    Time|Latitude|Longitude|      Type|Depth|Magnitude|          Timestamp|\n",
      "+----------+--------+--------+---------+----------+-----+---------+-------------------+\n",
      "|01/02/1965|13:44:18|  19.246|  145.616|Earthquake|131.6|      6.0|1965-01-02 13:44:18|\n",
      "|01/04/1965|11:29:49|   1.863|  127.352|Earthquake| 80.0|      5.8|1965-01-04 11:29:49|\n",
      "|01/05/1965|18:05:58| -20.579| -173.972|Earthquake| 20.0|      6.2|1965-01-05 18:05:58|\n",
      "|01/08/1965|18:49:43| -59.076|  -23.557|Earthquake| 15.0|      5.8|1965-01-08 18:49:43|\n",
      "|01/09/1965|13:32:50|  11.938|  126.427|Earthquake| 15.0|      5.8|1965-01-09 13:32:50|\n",
      "+----------+--------+--------+---------+----------+-----+---------+-------------------+\n",
      "only showing top 5 rows\n",
      "\n"
     ]
    }
   ],
   "source": [
    "# Filter for rows with magnitude greater than 5.0\n",
    "df = df.filter(col(\"Magnitude\")>5.0)\n",
    "\n",
    "df.show(5)"
   ]
  },
  {
   "cell_type": "code",
   "execution_count": 5,
   "id": "80185904-b0ba-4d05-befa-cabcaa389bfb",
   "metadata": {},
   "outputs": [
    {
     "name": "stderr",
     "output_type": "stream",
     "text": [
      "[Stage 4:>                                                          (0 + 1) / 1]\r"
     ]
    },
    {
     "name": "stdout",
     "output_type": "stream",
     "text": [
      "+-----------------+-----------------+-----------------+\n",
      "|             Type|        avg_Depth|    avg_Magnitude|\n",
      "+-----------------+-----------------+-----------------+\n",
      "|        Explosion|              0.0|             5.85|\n",
      "|       Rock Burst|              1.0|              6.2|\n",
      "|Nuclear Explosion|              0.3|5.850685714285718|\n",
      "|       Earthquake|71.31391348140497|5.882762568870756|\n",
      "+-----------------+-----------------+-----------------+\n",
      "\n"
     ]
    },
    {
     "name": "stderr",
     "output_type": "stream",
     "text": [
      "                                                                                \r"
     ]
    }
   ],
   "source": [
    "# Aggregating for each type\n",
    "avg_df = df.groupby(\"Type\")\\\n",
    "    .agg(\n",
    "        avg(\"Depth\").alias(\"avg_Depth\"), \n",
    "        avg(\"Magnitude\").alias(\"avg_Magnitude\")\n",
    "    )\n",
    "\n",
    "avg_df.show(5)"
   ]
  },
  {
   "cell_type": "code",
   "execution_count": 6,
   "id": "04b30523-4b4b-401c-9a29-7a49c2b8cf5f",
   "metadata": {},
   "outputs": [],
   "source": [
    "avg_df.write.format(\"csv\").mode(\"overwrite\").save(\"./output/avg.csv\")"
   ]
  },
  {
   "cell_type": "code",
   "execution_count": 7,
   "id": "e4ffb3a9-ce45-4c51-99d2-6472a4f0acc3",
   "metadata": {},
   "outputs": [],
   "source": [
    "# Categorizing the earthquakes\n",
    "def catagorize(magnitude):\n",
    "    if magnitude<6:\n",
    "        return \"Low\"\n",
    "    elif magnitude>=6 and magnitude<8:\n",
    "        return \"Medium\"\n",
    "    else:\n",
    "        return \"High\"\n",
    "\n",
    "categorize_udf = udf(catagorize, StringType())\n",
    "\n",
    "cat_df = df.withColumn(\"Category\", categorize_udf(\"Magnitude\"))"
   ]
  },
  {
   "cell_type": "code",
   "execution_count": 8,
   "id": "b0261fb2-32f9-4c6e-9112-247dc845ceec",
   "metadata": {},
   "outputs": [
    {
     "name": "stderr",
     "output_type": "stream",
     "text": [
      "[Stage 10:>                                                         (0 + 1) / 1]\r"
     ]
    },
    {
     "name": "stdout",
     "output_type": "stream",
     "text": [
      "+----------+--------+--------+---------+----------+-----+---------+-------------------+--------+------------------+\n",
      "|      Date|    Time|Latitude|Longitude|      Type|Depth|Magnitude|          Timestamp|Category|          Distance|\n",
      "+----------+--------+--------+---------+----------+-----+---------+-------------------+--------+------------------+\n",
      "|01/02/1965|13:44:18|  19.246|  145.616|Earthquake|131.6|      6.0|1965-01-02 13:44:18|  Medium| 146.8823609968195|\n",
      "|01/04/1965|11:29:49|   1.863|  127.352|Earthquake| 80.0|      5.8|1965-01-04 11:29:49|     Low|127.36562594750595|\n",
      "|01/05/1965|18:05:58| -20.579| -173.972|Earthquake| 20.0|      6.2|1965-01-05 18:05:58|  Medium|175.18490809713035|\n",
      "|01/08/1965|18:49:43| -59.076|  -23.557|Earthquake| 15.0|      5.8|1965-01-08 18:49:43|     Low| 63.59957566682344|\n",
      "|01/09/1965|13:32:50|  11.938|  126.427|Earthquake| 15.0|      5.8|1965-01-09 13:32:50|     Low|126.98937818967381|\n",
      "+----------+--------+--------+---------+----------+-----+---------+-------------------+--------+------------------+\n",
      "only showing top 5 rows\n",
      "\n"
     ]
    },
    {
     "name": "stderr",
     "output_type": "stream",
     "text": [
      "                                                                                \r"
     ]
    }
   ],
   "source": [
    "# Calculating distance from 0,0\n",
    "dis_df = cat_df.withColumn(\n",
    "    \"Distance\", \n",
    "    sqrt(col(\"Latitude\") ** 2 + col(\"Longitude\") ** 2)\n",
    ")\n",
    "\n",
    "dis_df.show(5)"
   ]
  },
  {
   "cell_type": "code",
   "execution_count": 9,
   "id": "16255433-8500-48d7-9812-d086ebf69894",
   "metadata": {},
   "outputs": [
    {
     "name": "stderr",
     "output_type": "stream",
     "text": [
      "                                                                                \r"
     ]
    }
   ],
   "source": [
    "dis_df.write.format(\"csv\").mode(\"overwrite\").save(\"./output/final_output.csv\")"
   ]
  },
  {
   "cell_type": "code",
   "execution_count": 10,
   "id": "3d7ed108-3ac2-459f-9d11-259b3c16bed6",
   "metadata": {},
   "outputs": [
    {
     "name": "stderr",
     "output_type": "stream",
     "text": [
      "                                                                                \r"
     ]
    }
   ],
   "source": [
    "# Convert Spark DataFrame to Pandas DataFrame\n",
    "pd_df = dis_df.toPandas()\n",
    "\n",
    "# Create a Folium map centered around the world\n",
    "map = folium.Map(location=[0, 0], zoom_start=2)\n",
    "\n",
    "category_colors = {\n",
    "    'Low': 'green',\n",
    "    'Medium': 'orange',\n",
    "    'High': 'red'\n",
    "}\n",
    "\n",
    "# Add markers for each earthquake location\n",
    "for idx, row in pd_df.iterrows():\n",
    "    latitude = row['Latitude']\n",
    "    longitude = row['Longitude']\n",
    "    category = row['Category']\n",
    "    \n",
    "    # Get color based on category\n",
    "    color = category_colors.get(category, 'gray')\n",
    "    \n",
    "    # Create a circle marker\n",
    "    folium.CircleMarker(\n",
    "        location=[latitude, longitude],\n",
    "        radius=2,\n",
    "        fill=True,\n",
    "        color=color,\n",
    "        fill_opacity=0.7\n",
    "    ).add_to(map)\n",
    "\n",
    "# Save the map as an HTML file\n",
    "map.save('./output/earthquakes_map.html')"
   ]
  },
  {
   "cell_type": "code",
   "execution_count": null,
   "id": "99078c93-1925-4c36-b0ed-018a3f7d64a8",
   "metadata": {},
   "outputs": [],
   "source": []
  }
 ],
 "metadata": {
  "kernelspec": {
   "display_name": "aditic",
   "language": "python",
   "name": "aditic"
  },
  "language_info": {
   "codemirror_mode": {
    "name": "ipython",
    "version": 3
   },
   "file_extension": ".py",
   "mimetype": "text/x-python",
   "name": "python",
   "nbconvert_exporter": "python",
   "pygments_lexer": "ipython3",
   "version": "3.8.18"
  }
 },
 "nbformat": 4,
 "nbformat_minor": 5
}
